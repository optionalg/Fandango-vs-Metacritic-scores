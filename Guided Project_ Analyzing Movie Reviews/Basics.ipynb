{
 "cells": [
  {
   "cell_type": "markdown",
   "metadata": {},
   "source": [
    "# Movie Reviews: A Guided project from Dataquest.io\n",
    "\n"
   ]
  },
  {
   "cell_type": "code",
   "execution_count": 2,
   "metadata": {
    "collapsed": false,
    "scrolled": true
   },
   "outputs": [],
   "source": [
    "import pandas as pd\n",
    "import numpy as np\n",
    "import matplotlib.pyplot as plt\n",
    "\n",
    "movies = pd.read_csv(\"fandango_score_comparison.csv\")\n",
    "%matplotlib inline"
   ]
  },
  {
   "cell_type": "code",
   "execution_count": 3,
   "metadata": {
    "collapsed": false,
    "scrolled": true
   },
   "outputs": [
    {
     "data": {
      "image/png": "[encoded data removed]",
      "text/plain": [
       "<matplotlib.figure.Figure at 0x7f249cf13be0>"
      ]
     },
     "metadata": {},
     "output_type": "display_data"
    },
    {
     "data": {
      "image/png": "[encoded data removed]",
      "text/plain": [
       "<matplotlib.figure.Figure at 0x7f24cc009240>"
      ]
     },
     "metadata": {},
     "output_type": "display_data"
    }
   ],
   "source": [
    "fig = plt.figure(figsize=(6,5))\n",
    "\n",
    "mc_norm_round = movies['Metacritic_norm_round']\n",
    "fg_stars = movies['Fandango_Stars']\n",
    "\n",
    "plt.hist(mc_norm_round)\n",
    "plt.xlim(0,5)\n",
    "plt.title(\"Metacritic_norm_round\")\n",
    "plt.xlabel(\"score\")\n",
    "plt.show()\n",
    "\n",
    "plt.hist(fg_stars)\n",
    "plt.xlim(0,5)\n",
    "plt.title(\"Fandango_Stars\")\n",
    "plt.xlabel(\"score\")\n",
    "plt.show()\n"
   ]
  },
  {
   "cell_type": "markdown",
   "metadata": {},
   "source": [
    "We can see from the above histograms that Fandango has a lower variance between scores and higher overall scores compared to metacrtic."
   ]
  },
  {
   "cell_type": "code",
   "execution_count": 4,
   "metadata": {
    "collapsed": false,
    "scrolled": true
   },
   "outputs": [
    {
     "name": "stdout",
     "output_type": "stream",
     "text": [
      "mc_mean:  2.97260273973\n",
      "fg_mean:  4.08904109589\n",
      "mc_median:  3.0\n",
      "fg_median:  4.0\n",
      "mc_std:  0.987561029704\n",
      "fg_std:  0.53853216127\n"
     ]
    }
   ],
   "source": [
    "mc_mean = mc_norm_round.mean()\n",
    "mc_median = mc_norm_round.median()\n",
    "mc_std = np.std(mc_norm_round)\n",
    "\n",
    "fg_mean = fg_stars.mean()\n",
    "fg_median = fg_stars.median()\n",
    "fg_std = np.std(fg_stars)\n",
    "\n",
    "print(\"mc_mean: \",mc_mean)\n",
    "print(\"fg_mean: \", fg_mean)\n",
    "\n",
    "print(\"mc_median: \", mc_median)\n",
    "print(\"fg_median: \", fg_median)\n",
    "\n",
    "print(\"mc_std: \", mc_std)\n",
    "print(\"fg_std: \", fg_std)\n"
   ]
  },
  {
   "cell_type": "markdown",
   "metadata": {},
   "source": [
    "We can see that the mean for Fandango is higher than metacritic, the median is higher and the standard deviation is lower."
   ]
  },
  {
   "cell_type": "code",
   "execution_count": 5,
   "metadata": {
    "collapsed": false,
    "scrolled": true
   },
   "outputs": [
    {
     "data": {
      "image/png": "[encoded data removed]",
      "text/plain": [
       "<matplotlib.figure.Figure at 0x7f249cf13240>"
      ]
     },
     "metadata": {},
     "output_type": "display_data"
    }
   ],
   "source": [
    "plt.scatter(mc_norm_round, fg_stars)\n",
    "plt.title(\"Metacritic vs Fandango scores\")\n",
    "plt.xlabel(\"Metacritic\")\n",
    "plt.ylabel(\"Fandango\")\n",
    "plt.show()"
   ]
  },
  {
   "cell_type": "code",
   "execution_count": 7,
   "metadata": {
    "collapsed": false,
    "scrolled": true
   },
   "outputs": [
    {
     "name": "stdout",
     "output_type": "stream",
     "text": [
      "                        FILM  RottenTomatoes  RottenTomatoes_User  Metacritic  \\\n",
      "3     Do You Believe? (2015)              18                   84          22   \n",
      "85         Little Boy (2015)              20                   81          30   \n",
      "47              Annie (2014)              27                   61          33   \n",
      "19             Pixels (2015)              17                   54          27   \n",
      "134  The Longest Ride (2015)              31                   73          33   \n",
      "\n",
      "     Metacritic_User  IMDB  Fandango_Stars  Fandango_Ratingvalue  RT_norm  \\\n",
      "3                4.7   5.4             5.0                   4.5     0.90   \n",
      "85               5.9   7.4             4.5                   4.3     1.00   \n",
      "47               4.8   5.2             4.5                   4.2     1.35   \n",
      "19               5.3   5.6             4.5                   4.1     0.85   \n",
      "134              4.8   7.2             4.5                   4.5     1.55   \n",
      "\n",
      "     RT_user_norm   ...     RT_norm_round  RT_user_norm_round  \\\n",
      "3            4.20   ...               1.0                 4.0   \n",
      "85           4.05   ...               1.0                 4.0   \n",
      "47           3.05   ...               1.5                 3.0   \n",
      "19           2.70   ...               1.0                 2.5   \n",
      "134          3.65   ...               1.5                 3.5   \n",
      "\n",
      "     Metacritic_norm_round  Metacritic_user_norm_round  IMDB_norm_round  \\\n",
      "3                      1.0                         2.5              2.5   \n",
      "85                     1.5                         3.0              3.5   \n",
      "47                     1.5                         2.5              2.5   \n",
      "19                     1.5                         2.5              3.0   \n",
      "134                    1.5                         2.5              3.5   \n",
      "\n",
      "     Metacritic_user_vote_count  IMDB_user_vote_count  Fandango_votes  \\\n",
      "3                            31                  3136            1793   \n",
      "85                           38                  5927             811   \n",
      "47                          108                 19222            6835   \n",
      "19                          246                 19521            3886   \n",
      "134                          49                 25214            2603   \n",
      "\n",
      "     Fandango_Difference  fm_diff  \n",
      "3                    0.5      4.0  \n",
      "85                   0.2      3.0  \n",
      "47                   0.3      3.0  \n",
      "19                   0.4      3.0  \n",
      "134                  0.0      3.0  \n",
      "\n",
      "[5 rows x 23 columns]\n"
     ]
    }
   ],
   "source": [
    "movies['fm_diff']=np.absolute(mc_norm_round - fg_stars)\n",
    "print(movies.sort_values('fm_diff', ascending = False).head(5))\n"
   ]
  },
  {
   "cell_type": "code",
   "execution_count": 13,
   "metadata": {
    "collapsed": false
   },
   "outputs": [
    {
     "name": "stdout",
     "output_type": "stream",
     "text": [
      "r_value 0.178449190739\n"
     ]
    }
   ],
   "source": [
    "from scipy.stats import pearsonr\n",
    "\n",
    "r_value, p_value = pearsonr(mc_norm_round, fg_stars)\n",
    "\n",
    "print(\"r_value\", r_value)"
   ]
  },
  {
   "cell_type": "markdown",
   "metadata": {},
   "source": [
    "A low correlation between the scores on metacritic and fandango would suggest that the two sites are scoring movies very differently."
   ]
  },
  {
   "cell_type": "code",
   "execution_count": 29,
   "metadata": {
    "collapsed": false
   },
   "outputs": [
    {
     "name": "stdout",
     "output_type": "stream",
     "text": [
      "A one on metacritic would get a  3.89708499687  on Fandango\n",
      "A three on metacritic would get a  4.09170715282  on Fandango\n",
      "A five on metacritic would get a  4.28632930877  on Fandango\n"
     ]
    },
    {
     "data": {
      "text/plain": [
       "(1, 5)"
      ]
     },
     "execution_count": 29,
     "metadata": {},
     "output_type": "execute_result"
    },
    {
     "data": {
      "image/png": "[encoded data removed]",
      "text/plain": [
       "<matplotlib.figure.Figure at 0x7f24946fb710>"
      ]
     },
     "metadata": {},
     "output_type": "display_data"
    }
   ],
   "source": [
    "from scipy.stats import linregress\n",
    "\n",
    "slope, intercept, r_value, p_value, std = linregress(mc_norm_round, fg_stars)\n",
    "\n",
    "# predicting the value of  x(metacritic) = 3 with the equation y = mx + c\n",
    "pred_1 = slope + intercept\n",
    "pred_3 = 3 * slope + intercept\n",
    "pred_5 = 5 * slope + intercept\n",
    "\n",
    "print(\"A one on metacritic would get a \", pred_1, \" on Fandango\")\n",
    "print(\"A three on metacritic would get a \", pred_3, \" on Fandango\")\n",
    "print(\"A five on metacritic would get a \", pred_5, \" on Fandango\")\n",
    "\n",
    "plt.scatter(mc_norm_round, fg_stars)\n",
    "\n",
    "#plotting a horizontal line using the predicted values against the nominal\n",
    "plt.plot([1.0, 5.0], [pred_1, pred_5])\n",
    "plt.xlim(1,5)"
   ]
  }
 ],
 "metadata": {
  "kernelspec": {
   "display_name": "Python 3",
   "language": "python",
   "name": "python3"
  },
  "language_info": {
   "codemirror_mode": {
    "name": "ipython",
    "version": 3
   },
   "file_extension": ".py",
   "mimetype": "text/x-python",
   "name": "python",
   "nbconvert_exporter": "python",
   "pygments_lexer": "ipython3",
   "version": "3.4.3"
  }
 },
 "nbformat": 4,
 "nbformat_minor": 0
}
